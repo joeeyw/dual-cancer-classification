{
 "cells": [
  {
   "cell_type": "code",
   "execution_count": 1,
   "id": "e2833f29-b2b5-4cf6-9c11-802d22aba144",
   "metadata": {},
   "outputs": [],
   "source": [
    "import pandas as pd\n",
    "from pyspark.sql import SparkSession"
   ]
  },
  {
   "cell_type": "code",
   "execution_count": 2,
   "id": "767e0966-8c47-46b5-9bd3-b106347d64a8",
   "metadata": {},
   "outputs": [
    {
     "name": "stderr",
     "output_type": "stream",
     "text": [
      "Setting default log level to \"WARN\".\n",
      "To adjust logging level use sc.setLogLevel(newLevel). For SparkR, use setLogLevel(newLevel).\n",
      "25/03/15 18:28:10 WARN NativeCodeLoader: Unable to load native-hadoop library for your platform... using builtin-java classes where applicable\n",
      "25/03/15 18:28:14 WARN Utils: Service 'SparkUI' could not bind on port 4040. Attempting port 4041.\n"
     ]
    }
   ],
   "source": [
    "spark = SparkSession.builder.appName(\"initial_data_cleaning\").getOrCreate()"
   ]
  },
  {
   "cell_type": "code",
   "execution_count": 10,
   "id": "56d6b0d3-1182-4abd-b6b9-0834b574f9cc",
   "metadata": {},
   "outputs": [],
   "source": [
    "df_DEMO_pandas = pd.read_sas(\"./initial_xpt_files/DEMO_L.xpt\", format=\"xport\")\n",
    "df_MCQ_pandas = pd.read_sas(\"./initial_xpt_files/MCQ_L.xpt\", format=\"xport\")"
   ]
  },
  {
   "cell_type": "code",
   "execution_count": 13,
   "id": "8517db98-8f46-4c48-b626-106b0d983da8",
   "metadata": {},
   "outputs": [
    {
     "name": "stdout",
     "output_type": "stream",
     "text": [
      "<class 'pandas.core.frame.DataFrame'>\n",
      "RangeIndex: 11933 entries, 0 to 11932\n",
      "Data columns (total 27 columns):\n",
      " #   Column    Non-Null Count  Dtype  \n",
      "---  ------    --------------  -----  \n",
      " 0   SEQN      11933 non-null  float64\n",
      " 1   SDDSRVYR  11933 non-null  float64\n",
      " 2   RIDSTATR  11933 non-null  float64\n",
      " 3   RIAGENDR  11933 non-null  float64\n",
      " 4   RIDAGEYR  11933 non-null  float64\n",
      " 5   RIDAGEMN  377 non-null    float64\n",
      " 6   RIDRETH1  11933 non-null  float64\n",
      " 7   RIDRETH3  11933 non-null  float64\n",
      " 8   RIDEXMON  8860 non-null   float64\n",
      " 9   RIDEXAGM  2787 non-null   float64\n",
      " 10  DMQMILIZ  8301 non-null   float64\n",
      " 11  DMDBORN4  11914 non-null  float64\n",
      " 12  DMDYRUSR  1875 non-null   float64\n",
      " 13  DMDEDUC2  7794 non-null   float64\n",
      " 14  DMDMARTZ  7792 non-null   float64\n",
      " 15  RIDEXPRG  1503 non-null   float64\n",
      " 16  DMDHHSIZ  11933 non-null  float64\n",
      " 17  DMDHRGND  4115 non-null   float64\n",
      " 18  DMDHRAGZ  4124 non-null   float64\n",
      " 19  DMDHREDZ  3746 non-null   float64\n",
      " 20  DMDHRMAZ  4020 non-null   float64\n",
      " 21  DMDHSEDZ  2127 non-null   float64\n",
      " 22  WTINT2YR  11933 non-null  float64\n",
      " 23  WTMEC2YR  11933 non-null  float64\n",
      " 24  SDMVSTRA  11933 non-null  float64\n",
      " 25  SDMVPSU   11933 non-null  float64\n",
      " 26  INDFMPIR  9892 non-null   float64\n",
      "dtypes: float64(27)\n",
      "memory usage: 2.5 MB\n"
     ]
    }
   ],
   "source": [
    "df_DEMO_pandas.info()"
   ]
  },
  {
   "cell_type": "code",
   "execution_count": 14,
   "id": "96a1f894-424b-4617-90cd-814a248cfe78",
   "metadata": {
    "scrolled": true
   },
   "outputs": [
    {
     "name": "stdout",
     "output_type": "stream",
     "text": [
      "<class 'pandas.core.frame.DataFrame'>\n",
      "RangeIndex: 11744 entries, 0 to 11743\n",
      "Data columns (total 35 columns):\n",
      " #   Column   Non-Null Count  Dtype  \n",
      "---  ------   --------------  -----  \n",
      " 0   SEQN     11744 non-null  float64\n",
      " 1   MCQ010   11743 non-null  float64\n",
      " 2   MCQ035   1946 non-null   float64\n",
      " 3   MCQ040   1219 non-null   float64\n",
      " 4   MCQ050   1219 non-null   float64\n",
      " 5   AGQ030   11743 non-null  float64\n",
      " 6   MCQ053   11741 non-null  float64\n",
      " 7   MCQ149   434 non-null    float64\n",
      " 8   MCQ160A  7807 non-null   float64\n",
      " 9   MCQ195   2532 non-null   float64\n",
      " 10  MCQ160B  7808 non-null   float64\n",
      " 11  MCQ160C  7807 non-null   float64\n",
      " 12  MCQ160D  7808 non-null   float64\n",
      " 13  MCQ160E  7807 non-null   float64\n",
      " 14  MCQ160F  7806 non-null   float64\n",
      " 15  MCQ160M  7806 non-null   float64\n",
      " 16  MCQ170M  1053 non-null   float64\n",
      " 17  MCQ160P  7807 non-null   float64\n",
      " 18  MCQ160L  7807 non-null   float64\n",
      " 19  MCQ170L  425 non-null    float64\n",
      " 20  MCQ500   1578 non-null   float64\n",
      " 21  MCQ510A  260 non-null    float64\n",
      " 22  MCQ510B  4 non-null      float64\n",
      " 23  MCQ510C  47 non-null     float64\n",
      " 24  MCQ510D  62 non-null     float64\n",
      " 25  MCQ510E  16 non-null     float64\n",
      " 26  MCQ510F  79 non-null     float64\n",
      " 27  MCQ550   7807 non-null   float64\n",
      " 28  MCQ560   7807 non-null   float64\n",
      " 29  MCQ220   7807 non-null   float64\n",
      " 30  MCQ230A  1169 non-null   float64\n",
      " 31  MCQ230B  159 non-null    float64\n",
      " 32  MCQ230C  26 non-null     float64\n",
      " 33  MCQ230D  2 non-null      float64\n",
      " 34  OSQ230   5723 non-null   float64\n",
      "dtypes: float64(35)\n",
      "memory usage: 3.1 MB\n"
     ]
    }
   ],
   "source": [
    "df_MCQ_pandas.info()"
   ]
  },
  {
   "cell_type": "code",
   "execution_count": 15,
   "id": "f0dc1dcd-f4fc-498c-9c13-03a7ce6fb305",
   "metadata": {},
   "outputs": [],
   "source": [
    "merged_pandas_df = df_MCQ_pandas.merge(df_DEMO_pandas, on=\"SEQN\", how=\"inner\")"
   ]
  },
  {
   "cell_type": "code",
   "execution_count": 16,
   "id": "d6eacd0b-facb-4dcf-af23-3b6092a3a4d9",
   "metadata": {
    "scrolled": true
   },
   "outputs": [
    {
     "name": "stdout",
     "output_type": "stream",
     "text": [
      "<class 'pandas.core.frame.DataFrame'>\n",
      "RangeIndex: 11744 entries, 0 to 11743\n",
      "Data columns (total 61 columns):\n",
      " #   Column    Non-Null Count  Dtype  \n",
      "---  ------    --------------  -----  \n",
      " 0   SEQN      11744 non-null  float64\n",
      " 1   MCQ010    11743 non-null  float64\n",
      " 2   MCQ035    1946 non-null   float64\n",
      " 3   MCQ040    1219 non-null   float64\n",
      " 4   MCQ050    1219 non-null   float64\n",
      " 5   AGQ030    11743 non-null  float64\n",
      " 6   MCQ053    11741 non-null  float64\n",
      " 7   MCQ149    434 non-null    float64\n",
      " 8   MCQ160A   7807 non-null   float64\n",
      " 9   MCQ195    2532 non-null   float64\n",
      " 10  MCQ160B   7808 non-null   float64\n",
      " 11  MCQ160C   7807 non-null   float64\n",
      " 12  MCQ160D   7808 non-null   float64\n",
      " 13  MCQ160E   7807 non-null   float64\n",
      " 14  MCQ160F   7806 non-null   float64\n",
      " 15  MCQ160M   7806 non-null   float64\n",
      " 16  MCQ170M   1053 non-null   float64\n",
      " 17  MCQ160P   7807 non-null   float64\n",
      " 18  MCQ160L   7807 non-null   float64\n",
      " 19  MCQ170L   425 non-null    float64\n",
      " 20  MCQ500    1578 non-null   float64\n",
      " 21  MCQ510A   260 non-null    float64\n",
      " 22  MCQ510B   4 non-null      float64\n",
      " 23  MCQ510C   47 non-null     float64\n",
      " 24  MCQ510D   62 non-null     float64\n",
      " 25  MCQ510E   16 non-null     float64\n",
      " 26  MCQ510F   79 non-null     float64\n",
      " 27  MCQ550    7807 non-null   float64\n",
      " 28  MCQ560    7807 non-null   float64\n",
      " 29  MCQ220    7807 non-null   float64\n",
      " 30  MCQ230A   1169 non-null   float64\n",
      " 31  MCQ230B   159 non-null    float64\n",
      " 32  MCQ230C   26 non-null     float64\n",
      " 33  MCQ230D   2 non-null      float64\n",
      " 34  OSQ230    5723 non-null   float64\n",
      " 35  SDDSRVYR  11744 non-null  float64\n",
      " 36  RIDSTATR  11744 non-null  float64\n",
      " 37  RIAGENDR  11744 non-null  float64\n",
      " 38  RIDAGEYR  11744 non-null  float64\n",
      " 39  RIDAGEMN  188 non-null    float64\n",
      " 40  RIDRETH1  11744 non-null  float64\n",
      " 41  RIDRETH3  11744 non-null  float64\n",
      " 42  RIDEXMON  8727 non-null   float64\n",
      " 43  RIDEXAGM  2654 non-null   float64\n",
      " 44  DMQMILIZ  8301 non-null   float64\n",
      " 45  DMDBORN4  11725 non-null  float64\n",
      " 46  DMDYRUSR  1875 non-null   float64\n",
      " 47  DMDEDUC2  7794 non-null   float64\n",
      " 48  DMDMARTZ  7792 non-null   float64\n",
      " 49  RIDEXPRG  1503 non-null   float64\n",
      " 50  DMDHHSIZ  11744 non-null  float64\n",
      " 51  DMDHRGND  3926 non-null   float64\n",
      " 52  DMDHRAGZ  3935 non-null   float64\n",
      " 53  DMDHREDZ  3572 non-null   float64\n",
      " 54  DMDHRMAZ  3833 non-null   float64\n",
      " 55  DMDHSEDZ  2022 non-null   float64\n",
      " 56  WTINT2YR  11744 non-null  float64\n",
      " 57  WTMEC2YR  11744 non-null  float64\n",
      " 58  SDMVSTRA  11744 non-null  float64\n",
      " 59  SDMVPSU   11744 non-null  float64\n",
      " 60  INDFMPIR  9730 non-null   float64\n",
      "dtypes: float64(61)\n",
      "memory usage: 5.5 MB\n"
     ]
    }
   ],
   "source": [
    "merged_pandas_df.info()"
   ]
  },
  {
   "cell_type": "code",
   "execution_count": 18,
   "id": "b80b2017-3f36-4801-bd5d-5365804da12f",
   "metadata": {},
   "outputs": [],
   "source": [
    "df = spark.createDataFrame(merged_pandas_df)"
   ]
  },
  {
   "cell_type": "code",
   "execution_count": 20,
   "id": "5fd16dd9-a4a6-4c21-b790-540bdb885788",
   "metadata": {},
   "outputs": [
    {
     "name": "stderr",
     "output_type": "stream",
     "text": [
      "25/03/15 18:52:06 WARN TaskSetManager: Stage 1 contains a task of very large size (3321 KiB). The maximum recommended task size is 1000 KiB.\n"
     ]
    },
    {
     "name": "stdout",
     "output_type": "stream",
     "text": [
      "+--------+------+------+------+------+------+------+------+-------+------+-------+-------+-------+-------+-------+-------+-------+-------+-------+-------+------+-------+-------+-------+-------+-------+-------+------+------+------+-------+-------+-------+-------+------+--------+--------+--------+--------+--------+--------+--------+--------+--------+--------+--------+--------+--------+--------+--------+--------+--------+--------+--------+--------+--------+------------+------------+--------+-------+--------+\n",
      "|    SEQN|MCQ010|MCQ035|MCQ040|MCQ050|AGQ030|MCQ053|MCQ149|MCQ160A|MCQ195|MCQ160B|MCQ160C|MCQ160D|MCQ160E|MCQ160F|MCQ160M|MCQ170M|MCQ160P|MCQ160L|MCQ170L|MCQ500|MCQ510A|MCQ510B|MCQ510C|MCQ510D|MCQ510E|MCQ510F|MCQ550|MCQ560|MCQ220|MCQ230A|MCQ230B|MCQ230C|MCQ230D|OSQ230|SDDSRVYR|RIDSTATR|RIAGENDR|RIDAGEYR|RIDAGEMN|RIDRETH1|RIDRETH3|RIDEXMON|RIDEXAGM|DMQMILIZ|DMDBORN4|DMDYRUSR|DMDEDUC2|DMDMARTZ|RIDEXPRG|DMDHHSIZ|DMDHRGND|DMDHRAGZ|DMDHREDZ|DMDHRMAZ|DMDHSEDZ|    WTINT2YR|    WTMEC2YR|SDMVSTRA|SDMVPSU|INDFMPIR|\n",
      "+--------+------+------+------+------+------+------+------+-------+------+-------+-------+-------+-------+-------+-------+-------+-------+-------+-------+------+-------+-------+-------+-------+-------+-------+------+------+------+-------+-------+-------+-------+------+--------+--------+--------+--------+--------+--------+--------+--------+--------+--------+--------+--------+--------+--------+--------+--------+--------+--------+--------+--------+--------+------------+------------+--------+-------+--------+\n",
      "|130378.0|   2.0|   NaN|   NaN|   NaN|   2.0|   2.0|   NaN|    1.0|   2.0|    2.0|    2.0|    2.0|    2.0|    2.0|    2.0|    NaN|    2.0|    2.0|    NaN|   NaN|    NaN|    NaN|    NaN|    NaN|    NaN|    NaN|   2.0|   2.0|   2.0|    NaN|    NaN|    NaN|    NaN|   2.0|    12.0|     2.0|     1.0|    43.0|     NaN|     5.0|     6.0|     2.0|     NaN|     2.0|     2.0|     6.0|     5.0|     1.0|     NaN|     4.0|     NaN|     NaN|     NaN|     NaN|     NaN|50055.450807|54374.463898|   173.0|    2.0|     5.0|\n",
      "+--------+------+------+------+------+------+------+------+-------+------+-------+-------+-------+-------+-------+-------+-------+-------+-------+-------+------+-------+-------+-------+-------+-------+-------+------+------+------+-------+-------+-------+-------+------+--------+--------+--------+--------+--------+--------+--------+--------+--------+--------+--------+--------+--------+--------+--------+--------+--------+--------+--------+--------+--------+------------+------------+--------+-------+--------+\n",
      "only showing top 1 row\n",
      "\n"
     ]
    }
   ],
   "source": [
    "df.show(1)"
   ]
  },
  {
   "cell_type": "markdown",
   "id": "6721b56f-f44b-4481-8115-d60e25d78332",
   "metadata": {},
   "source": [
    "### Feature Engineering"
   ]
  },
  {
   "cell_type": "code",
   "execution_count": 24,
   "id": "cd0fb01f-e554-43d6-a753-eb71ad1390b4",
   "metadata": {
    "scrolled": true
   },
   "outputs": [
    {
     "name": "stdout",
     "output_type": "stream",
     "text": [
      "root\n",
      " |-- SEQN: double (nullable = true)\n",
      " |-- MCQ010: double (nullable = true)\n",
      " |-- MCQ035: double (nullable = true)\n",
      " |-- MCQ040: double (nullable = true)\n",
      " |-- MCQ050: double (nullable = true)\n",
      " |-- AGQ030: double (nullable = true)\n",
      " |-- MCQ053: double (nullable = true)\n",
      " |-- MCQ149: double (nullable = true)\n",
      " |-- MCQ160A: double (nullable = true)\n",
      " |-- MCQ195: double (nullable = true)\n",
      " |-- MCQ160B: double (nullable = true)\n",
      " |-- MCQ160C: double (nullable = true)\n",
      " |-- MCQ160D: double (nullable = true)\n",
      " |-- MCQ160E: double (nullable = true)\n",
      " |-- MCQ160F: double (nullable = true)\n",
      " |-- MCQ160M: double (nullable = true)\n",
      " |-- MCQ170M: double (nullable = true)\n",
      " |-- MCQ160P: double (nullable = true)\n",
      " |-- MCQ160L: double (nullable = true)\n",
      " |-- MCQ170L: double (nullable = true)\n",
      " |-- MCQ500: double (nullable = true)\n",
      " |-- MCQ510A: double (nullable = true)\n",
      " |-- MCQ510B: double (nullable = true)\n",
      " |-- MCQ510C: double (nullable = true)\n",
      " |-- MCQ510D: double (nullable = true)\n",
      " |-- MCQ510E: double (nullable = true)\n",
      " |-- MCQ510F: double (nullable = true)\n",
      " |-- MCQ550: double (nullable = true)\n",
      " |-- MCQ560: double (nullable = true)\n",
      " |-- MCQ220: double (nullable = true)\n",
      " |-- MCQ230A: double (nullable = true)\n",
      " |-- MCQ230B: double (nullable = true)\n",
      " |-- MCQ230C: double (nullable = true)\n",
      " |-- MCQ230D: double (nullable = true)\n",
      " |-- OSQ230: double (nullable = true)\n",
      " |-- SDDSRVYR: double (nullable = true)\n",
      " |-- RIDSTATR: double (nullable = true)\n",
      " |-- RIAGENDR: double (nullable = true)\n",
      " |-- RIDAGEYR: double (nullable = true)\n",
      " |-- RIDAGEMN: double (nullable = true)\n",
      " |-- RIDRETH1: double (nullable = true)\n",
      " |-- RIDRETH3: double (nullable = true)\n",
      " |-- RIDEXMON: double (nullable = true)\n",
      " |-- RIDEXAGM: double (nullable = true)\n",
      " |-- DMQMILIZ: double (nullable = true)\n",
      " |-- DMDBORN4: double (nullable = true)\n",
      " |-- DMDYRUSR: double (nullable = true)\n",
      " |-- DMDEDUC2: double (nullable = true)\n",
      " |-- DMDMARTZ: double (nullable = true)\n",
      " |-- RIDEXPRG: double (nullable = true)\n",
      " |-- DMDHHSIZ: double (nullable = true)\n",
      " |-- DMDHRGND: double (nullable = true)\n",
      " |-- DMDHRAGZ: double (nullable = true)\n",
      " |-- DMDHREDZ: double (nullable = true)\n",
      " |-- DMDHRMAZ: double (nullable = true)\n",
      " |-- DMDHSEDZ: double (nullable = true)\n",
      " |-- WTINT2YR: double (nullable = true)\n",
      " |-- WTMEC2YR: double (nullable = true)\n",
      " |-- SDMVSTRA: double (nullable = true)\n",
      " |-- SDMVPSU: double (nullable = true)\n",
      " |-- INDFMPIR: double (nullable = true)\n",
      "\n"
     ]
    }
   ],
   "source": [
    "df.printSchema()"
   ]
  },
  {
   "cell_type": "code",
   "execution_count": 26,
   "id": "7e21f84b-999e-435e-8e98-aa6312e2eaca",
   "metadata": {},
   "outputs": [],
   "source": [
    "df = df.replace(float(\"nan\"), None)"
   ]
  },
  {
   "cell_type": "code",
   "execution_count": 28,
   "id": "0196ab45-01ed-4b9d-93a1-36da5693a01a",
   "metadata": {},
   "outputs": [
    {
     "name": "stderr",
     "output_type": "stream",
     "text": [
      "25/03/15 18:59:02 WARN TaskSetManager: Stage 186 contains a task of very large size (3321 KiB). The maximum recommended task size is 1000 KiB.\n",
      "25/03/15 18:59:03 WARN TaskSetManager: Stage 189 contains a task of very large size (3321 KiB). The maximum recommended task size is 1000 KiB.\n",
      "25/03/15 18:59:04 WARN TaskSetManager: Stage 192 contains a task of very large size (3321 KiB). The maximum recommended task size is 1000 KiB.\n",
      "25/03/15 18:59:05 WARN TaskSetManager: Stage 195 contains a task of very large size (3321 KiB). The maximum recommended task size is 1000 KiB.\n",
      "25/03/15 18:59:05 WARN TaskSetManager: Stage 198 contains a task of very large size (3321 KiB). The maximum recommended task size is 1000 KiB.\n",
      "25/03/15 18:59:06 WARN TaskSetManager: Stage 201 contains a task of very large size (3321 KiB). The maximum recommended task size is 1000 KiB.\n",
      "25/03/15 18:59:07 WARN TaskSetManager: Stage 204 contains a task of very large size (3321 KiB). The maximum recommended task size is 1000 KiB.\n",
      "25/03/15 18:59:07 WARN TaskSetManager: Stage 207 contains a task of very large size (3321 KiB). The maximum recommended task size is 1000 KiB.\n",
      "25/03/15 18:59:08 WARN TaskSetManager: Stage 210 contains a task of very large size (3321 KiB). The maximum recommended task size is 1000 KiB.\n",
      "25/03/15 18:59:08 WARN TaskSetManager: Stage 213 contains a task of very large size (3321 KiB). The maximum recommended task size is 1000 KiB.\n",
      "25/03/15 18:59:09 WARN TaskSetManager: Stage 216 contains a task of very large size (3321 KiB). The maximum recommended task size is 1000 KiB.\n",
      "25/03/15 18:59:10 WARN TaskSetManager: Stage 219 contains a task of very large size (3321 KiB). The maximum recommended task size is 1000 KiB.\n",
      "25/03/15 18:59:10 WARN TaskSetManager: Stage 222 contains a task of very large size (3321 KiB). The maximum recommended task size is 1000 KiB.\n",
      "25/03/15 18:59:11 WARN TaskSetManager: Stage 225 contains a task of very large size (3321 KiB). The maximum recommended task size is 1000 KiB.\n",
      "25/03/15 18:59:12 WARN TaskSetManager: Stage 228 contains a task of very large size (3321 KiB). The maximum recommended task size is 1000 KiB.\n",
      "25/03/15 18:59:13 WARN TaskSetManager: Stage 231 contains a task of very large size (3321 KiB). The maximum recommended task size is 1000 KiB.\n",
      "25/03/15 18:59:14 WARN TaskSetManager: Stage 234 contains a task of very large size (3321 KiB). The maximum recommended task size is 1000 KiB.\n",
      "25/03/15 18:59:14 WARN TaskSetManager: Stage 237 contains a task of very large size (3321 KiB). The maximum recommended task size is 1000 KiB.\n",
      "25/03/15 18:59:15 WARN TaskSetManager: Stage 240 contains a task of very large size (3321 KiB). The maximum recommended task size is 1000 KiB.\n",
      "25/03/15 18:59:16 WARN TaskSetManager: Stage 243 contains a task of very large size (3321 KiB). The maximum recommended task size is 1000 KiB.\n",
      "25/03/15 18:59:17 WARN TaskSetManager: Stage 246 contains a task of very large size (3321 KiB). The maximum recommended task size is 1000 KiB.\n",
      "25/03/15 18:59:17 WARN TaskSetManager: Stage 249 contains a task of very large size (3321 KiB). The maximum recommended task size is 1000 KiB.\n",
      "25/03/15 18:59:18 WARN TaskSetManager: Stage 252 contains a task of very large size (3321 KiB). The maximum recommended task size is 1000 KiB.\n",
      "25/03/15 18:59:19 WARN TaskSetManager: Stage 255 contains a task of very large size (3321 KiB). The maximum recommended task size is 1000 KiB.\n",
      "25/03/15 18:59:20 WARN TaskSetManager: Stage 258 contains a task of very large size (3321 KiB). The maximum recommended task size is 1000 KiB.\n",
      "25/03/15 18:59:20 WARN TaskSetManager: Stage 261 contains a task of very large size (3321 KiB). The maximum recommended task size is 1000 KiB.\n",
      "25/03/15 18:59:21 WARN TaskSetManager: Stage 264 contains a task of very large size (3321 KiB). The maximum recommended task size is 1000 KiB.\n",
      "25/03/15 18:59:22 WARN TaskSetManager: Stage 267 contains a task of very large size (3321 KiB). The maximum recommended task size is 1000 KiB.\n",
      "25/03/15 18:59:22 WARN TaskSetManager: Stage 270 contains a task of very large size (3321 KiB). The maximum recommended task size is 1000 KiB.\n",
      "25/03/15 18:59:23 WARN TaskSetManager: Stage 273 contains a task of very large size (3321 KiB). The maximum recommended task size is 1000 KiB.\n",
      "25/03/15 18:59:24 WARN TaskSetManager: Stage 276 contains a task of very large size (3321 KiB). The maximum recommended task size is 1000 KiB.\n",
      "25/03/15 18:59:24 WARN TaskSetManager: Stage 279 contains a task of very large size (3321 KiB). The maximum recommended task size is 1000 KiB.\n",
      "25/03/15 18:59:25 WARN TaskSetManager: Stage 282 contains a task of very large size (3321 KiB). The maximum recommended task size is 1000 KiB.\n",
      "25/03/15 18:59:26 WARN TaskSetManager: Stage 285 contains a task of very large size (3321 KiB). The maximum recommended task size is 1000 KiB.\n",
      "25/03/15 18:59:26 WARN TaskSetManager: Stage 288 contains a task of very large size (3321 KiB). The maximum recommended task size is 1000 KiB.\n",
      "25/03/15 18:59:27 WARN TaskSetManager: Stage 291 contains a task of very large size (3321 KiB). The maximum recommended task size is 1000 KiB.\n",
      "25/03/15 18:59:28 WARN TaskSetManager: Stage 294 contains a task of very large size (3321 KiB). The maximum recommended task size is 1000 KiB.\n",
      "25/03/15 18:59:29 WARN TaskSetManager: Stage 297 contains a task of very large size (3321 KiB). The maximum recommended task size is 1000 KiB.\n",
      "25/03/15 18:59:30 WARN TaskSetManager: Stage 300 contains a task of very large size (3321 KiB). The maximum recommended task size is 1000 KiB.\n",
      "25/03/15 18:59:30 WARN TaskSetManager: Stage 303 contains a task of very large size (3321 KiB). The maximum recommended task size is 1000 KiB.\n",
      "25/03/15 18:59:31 WARN TaskSetManager: Stage 306 contains a task of very large size (3321 KiB). The maximum recommended task size is 1000 KiB.\n",
      "25/03/15 18:59:32 WARN TaskSetManager: Stage 309 contains a task of very large size (3321 KiB). The maximum recommended task size is 1000 KiB.\n",
      "25/03/15 18:59:33 WARN TaskSetManager: Stage 312 contains a task of very large size (3321 KiB). The maximum recommended task size is 1000 KiB.\n",
      "25/03/15 18:59:33 WARN TaskSetManager: Stage 315 contains a task of very large size (3321 KiB). The maximum recommended task size is 1000 KiB.\n",
      "25/03/15 18:59:34 WARN TaskSetManager: Stage 318 contains a task of very large size (3321 KiB). The maximum recommended task size is 1000 KiB.\n",
      "25/03/15 18:59:35 WARN TaskSetManager: Stage 321 contains a task of very large size (3321 KiB). The maximum recommended task size is 1000 KiB.\n",
      "25/03/15 18:59:35 WARN TaskSetManager: Stage 324 contains a task of very large size (3321 KiB). The maximum recommended task size is 1000 KiB.\n",
      "25/03/15 18:59:36 WARN TaskSetManager: Stage 327 contains a task of very large size (3321 KiB). The maximum recommended task size is 1000 KiB.\n",
      "25/03/15 18:59:37 WARN TaskSetManager: Stage 330 contains a task of very large size (3321 KiB). The maximum recommended task size is 1000 KiB.\n",
      "25/03/15 18:59:37 WARN TaskSetManager: Stage 333 contains a task of very large size (3321 KiB). The maximum recommended task size is 1000 KiB.\n",
      "25/03/15 18:59:38 WARN TaskSetManager: Stage 336 contains a task of very large size (3321 KiB). The maximum recommended task size is 1000 KiB.\n",
      "25/03/15 18:59:39 WARN TaskSetManager: Stage 339 contains a task of very large size (3321 KiB). The maximum recommended task size is 1000 KiB.\n",
      "25/03/15 18:59:40 WARN TaskSetManager: Stage 342 contains a task of very large size (3321 KiB). The maximum recommended task size is 1000 KiB.\n",
      "25/03/15 18:59:40 WARN TaskSetManager: Stage 345 contains a task of very large size (3321 KiB). The maximum recommended task size is 1000 KiB.\n",
      "25/03/15 18:59:41 WARN TaskSetManager: Stage 348 contains a task of very large size (3321 KiB). The maximum recommended task size is 1000 KiB.\n",
      "25/03/15 18:59:42 WARN TaskSetManager: Stage 351 contains a task of very large size (3321 KiB). The maximum recommended task size is 1000 KiB.\n",
      "25/03/15 18:59:42 WARN TaskSetManager: Stage 354 contains a task of very large size (3321 KiB). The maximum recommended task size is 1000 KiB.\n",
      "25/03/15 18:59:43 WARN TaskSetManager: Stage 357 contains a task of very large size (3321 KiB). The maximum recommended task size is 1000 KiB.\n",
      "25/03/15 18:59:44 WARN TaskSetManager: Stage 360 contains a task of very large size (3321 KiB). The maximum recommended task size is 1000 KiB.\n",
      "25/03/15 18:59:45 WARN TaskSetManager: Stage 363 contains a task of very large size (3321 KiB). The maximum recommended task size is 1000 KiB.\n",
      "25/03/15 18:59:45 WARN TaskSetManager: Stage 366 contains a task of very large size (3321 KiB). The maximum recommended task size is 1000 KiB.\n"
     ]
    },
    {
     "data": {
      "text/plain": [
       "[0,\n",
       " 1,\n",
       " 9798,\n",
       " 10525,\n",
       " 10525,\n",
       " 1,\n",
       " 3,\n",
       " 11310,\n",
       " 3937,\n",
       " 9212,\n",
       " 3936,\n",
       " 3937,\n",
       " 3936,\n",
       " 3937,\n",
       " 3938,\n",
       " 3938,\n",
       " 10691,\n",
       " 3937,\n",
       " 3937,\n",
       " 11319,\n",
       " 10166,\n",
       " 11484,\n",
       " 11740,\n",
       " 11697,\n",
       " 11682,\n",
       " 11728,\n",
       " 11665,\n",
       " 3937,\n",
       " 3937,\n",
       " 3937,\n",
       " 10575,\n",
       " 11585,\n",
       " 11718,\n",
       " 11742,\n",
       " 6021,\n",
       " 0,\n",
       " 0,\n",
       " 0,\n",
       " 0,\n",
       " 11556,\n",
       " 0,\n",
       " 0,\n",
       " 3017,\n",
       " 9090,\n",
       " 3443,\n",
       " 19,\n",
       " 9869,\n",
       " 3950,\n",
       " 3952,\n",
       " 10241,\n",
       " 0,\n",
       " 7818,\n",
       " 7809,\n",
       " 8172,\n",
       " 7911,\n",
       " 9722,\n",
       " 0,\n",
       " 0,\n",
       " 0,\n",
       " 0,\n",
       " 2014]"
      ]
     },
     "execution_count": 28,
     "metadata": {},
     "output_type": "execute_result"
    }
   ],
   "source": [
    "[df.filter(df[col].isNull()).count() for col in df.columns]"
   ]
  },
  {
   "cell_type": "code",
   "execution_count": null,
   "id": "fa0a1d7e-e6c2-4945-b408-77cef821d68c",
   "metadata": {},
   "outputs": [],
   "source": [
    "# LABEL: MCQ220 -> \"Have you ever been told you have cancer or a malignancy?\" \n",
    "# 1 = Yes (~1169)\n",
    "# 2 = No (~6631)\n",
    "# 7 = Refused (~2)\n",
    "# 9 = Not sure (~5)\n",
    "# NA (3937)"
   ]
  }
 ],
 "metadata": {
  "kernelspec": {
   "display_name": "Python 3 (ipykernel)",
   "language": "python",
   "name": "python3"
  },
  "language_info": {
   "codemirror_mode": {
    "name": "ipython",
    "version": 3
   },
   "file_extension": ".py",
   "mimetype": "text/x-python",
   "name": "python",
   "nbconvert_exporter": "python",
   "pygments_lexer": "ipython3",
   "version": "3.8.10"
  }
 },
 "nbformat": 4,
 "nbformat_minor": 5
}
